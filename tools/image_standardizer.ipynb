{
 "cells": [
  {
   "cell_type": "code",
   "execution_count": 11,
   "metadata": {},
   "outputs": [],
   "source": [
    "import cv2\n",
    "import os\n",
    "\n",
    "import pandas as pd\n",
    "import numpy as np\n",
    "\n",
    "from statistics import mean, stdev"
   ]
  },
  {
   "cell_type": "code",
   "execution_count": 3,
   "metadata": {},
   "outputs": [],
   "source": [
    "im_dir = r'C:\\Users\\subrahm\\Documents\\breast-cancer-detection\\Breast-Cancer-Detection\\data\\run_data\\train\\tumor'\n",
    "images = os.listdir(im_dir)"
   ]
  },
  {
   "cell_type": "code",
   "execution_count": 4,
   "metadata": {},
   "outputs": [],
   "source": [
    "dimensions_dict = {'hight': [], 'width': [], 'channel': []}"
   ]
  },
  {
   "cell_type": "code",
   "execution_count": 5,
   "metadata": {
    "scrolled": false
   },
   "outputs": [],
   "source": [
    "for image in images:\n",
    "    image_path = os.path.join(im_dir, image)\n",
    "    im = cv2.imread(image_path)\n",
    "    h, w, c = im.shape\n",
    "    dimensions_dict['hight'].append(h)\n",
    "    dimensions_dict['width'].append(w)\n",
    "    dimensions_dict['channel'].append(c)"
   ]
  },
  {
   "cell_type": "code",
   "execution_count": 13,
   "metadata": {},
   "outputs": [],
   "source": [
    "dimensions = dimensions_dict.copy()"
   ]
  },
  {
   "cell_type": "code",
   "execution_count": 16,
   "metadata": {},
   "outputs": [
    {
     "name": "stdout",
     "output_type": "stream",
     "text": [
      "Mean hight - 653.4651416122005 and Mean width - 643.074074074074\n",
      "std hight - 363.9903334113808 and std width - 351.73784355160825\n"
     ]
    }
   ],
   "source": [
    "print('Mean hight - {} and Mean width - {}'.format(mean(dimensions['hight']), mean(dimensions['width'])))\n",
    "print('std hight - {} and std width - {}'.format(stdev(dimensions['hight']), stdev(dimensions['width'])))"
   ]
  },
  {
   "cell_type": "code",
   "execution_count": 20,
   "metadata": {},
   "outputs": [],
   "source": [
    "img = images[0]\n",
    "# image_path = os.path.join(im_dir, img)\n",
    "image_path = r'C:\\Users\\subrahm\\Documents\\breast-cancer-detection\\Breast-Cancer-Detection\\data\\run_data\\train\\tumor\\A_1154_1.LEFT_CC.ROI.01.png'"
   ]
  },
  {
   "cell_type": "code",
   "execution_count": 21,
   "metadata": {},
   "outputs": [
    {
     "name": "stdout",
     "output_type": "stream",
     "text": [
      "Normal : (256, 256, 3), Grayscale: (256, 256)\n"
     ]
    },
    {
     "data": {
      "text/plain": [
       "-1"
      ]
     },
     "execution_count": 21,
     "metadata": {},
     "output_type": "execute_result"
    }
   ],
   "source": [
    "dim = (256,256)\n",
    "\n",
    "im = cv2.imread(image_path)\n",
    "im = cv2.resize(im, dim)\n",
    "cv2.imshow('image',im)\n",
    "\n",
    "im_grayscale = cv2.imread(image_path, 0)\n",
    "im_grayscale = cv2.resize(im_grayscale, dim)\n",
    "cv2.imshow('grayscale image',im_grayscale)\n",
    "\n",
    "print(f\"Normal : {im.shape}, Grayscale: {im_grayscale.shape}\")\n",
    "cv2.waitKey(0)"
   ]
  },
  {
   "cell_type": "code",
   "execution_count": null,
   "metadata": {},
   "outputs": [],
   "source": []
  }
 ],
 "metadata": {
  "kernelspec": {
   "display_name": "Python 3",
   "language": "python",
   "name": "python3"
  },
  "language_info": {
   "codemirror_mode": {
    "name": "ipython",
    "version": 3
   },
   "file_extension": ".py",
   "mimetype": "text/x-python",
   "name": "python",
   "nbconvert_exporter": "python",
   "pygments_lexer": "ipython3",
   "version": "3.7.7"
  }
 },
 "nbformat": 4,
 "nbformat_minor": 4
}
