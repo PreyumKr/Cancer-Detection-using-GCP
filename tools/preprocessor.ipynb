{
 "cells": [
  {
   "cell_type": "code",
   "execution_count": null,
   "metadata": {},
   "outputs": [],
   "source": [
    "from IPython.core.display import display, HTML\n",
    "display(HTML(\"<style>.container { width:100% !important; }</style>\"))"
   ]
  },
  {
   "cell_type": "code",
   "execution_count": null,
   "metadata": {},
   "outputs": [],
   "source": [
    "import os\n",
    "import shutil\n",
    "import numpy as np\n",
    "\n",
    "from sklearn.utils import shuffle\n",
    "\n",
    "from tensorflow import keras\n",
    "from tensorflow.keras.utils import to_categorical\n",
    "from sklearn.model_selection import train_test_split"
   ]
  },
  {
   "cell_type": "code",
   "execution_count": null,
   "metadata": {},
   "outputs": [],
   "source": [
    "train_dir = r'C:\\Users\\subrahm\\Documents\\breast-cancer-detection\\data\\test_cnn_data'\n",
    "dest_dir = r'C:\\Users\\subrahm\\Documents\\breast-cancer-detection\\data\\train_data\\test_cnn\\all_images'\n",
    "counter = 0"
   ]
  },
  {
   "cell_type": "code",
   "execution_count": null,
   "metadata": {},
   "outputs": [],
   "source": [
    "if len(os.listdir(dest_dir)) == 0:\n",
    "    for subdir, dirs, files in os.walk(train_dir):\n",
    "        for file in files:\n",
    "            full_path = os.path.join(subdir, file)\n",
    "            shutil.copy(full_path, dest_dir)\n",
    "            counter = counter + 1"
   ]
  },
  {
   "cell_type": "code",
   "execution_count": null,
   "metadata": {},
   "outputs": [],
   "source": [
    "len_files = len(os.listdir(dest_dir))\n",
    "filenames_counter = 0\n",
    "labels_counter = -1"
   ]
  },
  {
   "cell_type": "code",
   "execution_count": null,
   "metadata": {},
   "outputs": [],
   "source": [
    "filenames = []\n",
    "labels = np.zeros((len_files, 1))"
   ]
  },
  {
   "cell_type": "code",
   "execution_count": null,
   "metadata": {},
   "outputs": [],
   "source": [
    "for subdir, dirs, files in os.walk(train_dir):\n",
    "    for file in files:\n",
    "        filenames.append(file)\n",
    "        labels[filenames_counter, 0] = labels_counter\n",
    "        filenames_counter = filenames_counter + 1\n",
    "    labels_counter = labels_counter+1\n",
    "    \n",
    "print(len(filenames))\n",
    "print(labels.shape)"
   ]
  },
  {
   "cell_type": "code",
   "execution_count": null,
   "metadata": {},
   "outputs": [],
   "source": [
    "# saving the filename array as .npy file\n",
    "np.save(r'C:\\Users\\subrahm\\Documents\\breast-cancer-detection\\data\\train_data\\test_cnn\\filenames.npy', filenames)"
   ]
  },
  {
   "cell_type": "code",
   "execution_count": null,
   "metadata": {},
   "outputs": [],
   "source": [
    "# One hot vector representation of labels\n",
    "y_labels_one_hot = to_categorical(labels)"
   ]
  },
  {
   "cell_type": "code",
   "execution_count": null,
   "metadata": {},
   "outputs": [],
   "source": [
    "# saving the y_labels_one_hot array as a .npy file\n",
    "np.save(r'C:\\Users\\subrahm\\Documents\\breast-cancer-detection\\data\\train_data\\test_cnn\\y_labels_one_hot.npy', y_labels_one_hot)"
   ]
  },
  {
   "cell_type": "code",
   "execution_count": null,
   "metadata": {},
   "outputs": [],
   "source": [
    "filenames_shuffled, y_labels_one_hot_shuffled = shuffle(filenames, y_labels_one_hot)\n",
    "\n",
    "# saving the shuffled file.\n",
    "# you can load them later using np.load().\n",
    "# np.save('../../data/train_data/test_cnn/y_labels_one_hot_shuffled.npy', y_labels_one_hot_shuffled)\n",
    "# np.save('../../data/train_data/test_cnn/filenames_shuffled.npy', filenames_shuffled)"
   ]
  },
  {
   "cell_type": "code",
   "execution_count": null,
   "metadata": {},
   "outputs": [],
   "source": [
    "# Used this line as our filename array is not a numpy array.\n",
    "filenames_shuffled_numpy = np.array(filenames_shuffled)"
   ]
  },
  {
   "cell_type": "code",
   "execution_count": null,
   "metadata": {},
   "outputs": [],
   "source": [
    "X_train_filenames, X_val_filenames, y_train, y_val = train_test_split(\n",
    "    filenames_shuffled_numpy, y_labels_one_hot_shuffled, test_size=0.2, random_state=1)"
   ]
  },
  {
   "cell_type": "code",
   "execution_count": null,
   "metadata": {},
   "outputs": [],
   "source": [
    "print(X_train_filenames.shape) # (3644,)\n",
    "print(y_train.shape)           # (3644, 2)\n",
    "\n",
    "print(X_val_filenames.shape)   # (911,)\n",
    "print(y_val.shape)             # (911, 2)\n"
   ]
  },
  {
   "cell_type": "code",
   "execution_count": null,
   "metadata": {},
   "outputs": [],
   "source": [
    "# You can save these files as well. As you will be using them later for training and validation of your model.\n",
    "np.save(r'C:\\Users\\subrahm\\Documents\\breast-cancer-detection\\data\\train_data\\test_cnn\\train\\X_train_filenames.npy', X_train_filenames)\n",
    "np.save(r'C:\\Users\\subrahm\\Documents\\breast-cancer-detection\\data\\train_data\\test_cnn\\train\\y_train.npy', y_train)\n",
    "\n",
    "np.save(r'C:\\Users\\subrahm\\Documents\\breast-cancer-detection\\data\\train_data\\test_cnn\\val\\X_val_filenames.npy', X_val_filenames)\n",
    "np.save(r'C:\\Users\\subrahm\\Documents\\breast-cancer-detection\\data\\train_data\\test_cnn\\val\\y_val.npy', y_val)"
   ]
  },
  {
   "cell_type": "code",
   "execution_count": null,
   "metadata": {},
   "outputs": [],
   "source": [
    "shutil.make_archive(dest_dir, \"zip\", dest_dir)"
   ]
  },
  {
   "cell_type": "code",
   "execution_count": null,
   "metadata": {},
   "outputs": [],
   "source": []
  }
 ],
 "metadata": {
  "kernelspec": {
   "display_name": "Python 3",
   "language": "python",
   "name": "python3"
  },
  "language_info": {
   "codemirror_mode": {
    "name": "ipython",
    "version": 3
   },
   "file_extension": ".py",
   "mimetype": "text/x-python",
   "name": "python",
   "nbconvert_exporter": "python",
   "pygments_lexer": "ipython3",
   "version": "3.7.9"
  }
 },
 "nbformat": 4,
 "nbformat_minor": 4
}
