{
 "cells": [
  {
   "cell_type": "markdown",
   "metadata": {},
   "source": [
    "# Training Tensorflow model on Google Cloud AI Platform"
   ]
  },
  {
   "cell_type": "code",
   "execution_count": 2,
   "metadata": {},
   "outputs": [],
   "source": [
    "!sudo chown -R jupyter:jupyter /home/jupyter/Cancer-Detection-using-GCP"
   ]
  },
  {
   "cell_type": "code",
   "execution_count": 3,
   "metadata": {},
   "outputs": [],
   "source": [
    "import os"
   ]
  },
  {
   "cell_type": "code",
   "execution_count": 9,
   "metadata": {},
   "outputs": [],
   "source": [
    "PROJECT = 'vernal-buffer-285906'\n",
    "REGION = 'us-west1'\n",
    "BUCKET = 'vernal-buffer-285906'"
   ]
  },
  {
   "cell_type": "code",
   "execution_count": 10,
   "metadata": {},
   "outputs": [],
   "source": [
    "os.environ['BUCKET'] = BUCKET\n",
    "os.environ['PROJECT'] = PROJECT\n",
    "os.environ['REGION'] = REGION\n",
    "os.environ['TFVERSION'] = '2.6'"
   ]
  },
  {
   "cell_type": "code",
   "execution_count": null,
   "metadata": {},
   "outputs": [],
   "source": [
    "%%bash\n",
    "gcloud config set project $PROJECT\n",
    "gcloud config set compute/region $REGION"
   ]
  },
  {
   "cell_type": "markdown",
   "metadata": {},
   "source": [
    "## Submit Training job to Google Cloud Ai Platform"
   ]
  },
  {
   "cell_type": "code",
   "execution_count": 12,
   "metadata": {},
   "outputs": [
    {
     "name": "stdout",
     "output_type": "stream",
     "text": [
      "us-west1 cancer_detector_210911_060551\n",
      "jobId: cancer_detector_210911_060551\n",
      "state: QUEUED\n"
     ]
    },
    {
     "name": "stderr",
     "output_type": "stream",
     "text": [
      "Copying file://../../config/config.yaml [Content-Type=application/octet-stream]...\n",
      "Copying file://../../config/.ipynb_checkpoints/config-checkpoint.yaml [Content-Type=application/octet-stream]...\n",
      "/ [2/2 files][  3.4 KiB/  3.4 KiB] 100% Done                                    \n",
      "Operation completed over 2 objects/3.4 KiB.                                      \n",
      "Job [cancer_detector_210911_060551] submitted successfully.\n",
      "Your job is still active. You may view the status of your job with the command\n",
      "\n",
      "  $ gcloud ai-platform jobs describe cancer_detector_210911_060551\n",
      "\n",
      "or continue streaming the logs with the command\n",
      "\n",
      "  $ gcloud ai-platform jobs stream-logs cancer_detector_210911_060551\n"
     ]
    }
   ],
   "source": [
    "%%bash\n",
    "\n",
    "# Move latest config file to google storage bucket\n",
    "gsutil -m cp -r ../../config gs://$BUCKET\n",
    "\n",
    "# Set PYTHONPATH enviornment variable\n",
    "export PYTHONPATH=${PYTHONPATH}:/home/jupyter/Cancer-Detection-using-GCP/\n",
    "\n",
    "# Specify a unique name for the job.\n",
    "JOBNAME=cancer_detector_$(date -u +%y%m%d_%H%M%S)\n",
    "echo $REGION $JOBNAME\n",
    "\n",
    "# Submit training job\n",
    "gcloud ai-platform jobs submit training $JOBNAME \\\n",
    "  --region=$REGION \\\n",
    "  --module-name=detectors.tf_gcp.trainer.task \\\n",
    "  --package-path=/home/jupyter/Cancer-Detection-using-GCP/detectors/ \\\n",
    "  --job-dir=gs://$BUCKET \\\n",
    "  --staging-bucket=gs://$BUCKET \\\n",
    "  --scale-tier=BASIC_GPU \\\n",
    "  --runtime-version=2.5 \\\n",
    "  --python-version=3.7 \\\n",
    "  -- \\\n",
    "  --train-config=gs://$BUCKET/config/config.yaml"
   ]
  },
  {
   "cell_type": "code",
   "execution_count": null,
   "metadata": {},
   "outputs": [],
   "source": [
    "# Running TensorBoard\n",
    "# Open the port you are supposed to use (usually 6006) in Google cloud vm instance\n",
    "# info -> https://docs.bitnami.com/google/faq/administration/use-firewall/\n",
    "# Run tensorboard using following command\n",
    "# tensorboard --logdir <path/to/log/directory> --bind_all\n",
    "# Ex:\n",
    "# tensorboard --logdir gs://vernal-buffer-285906/train_results/tensorboard --bind_all"
   ]
  },
  {
   "cell_type": "code",
   "execution_count": null,
   "metadata": {},
   "outputs": [],
   "source": []
  }
 ],
 "metadata": {
  "environment": {
   "name": "tf2-gpu.2-6.m79",
   "type": "gcloud",
   "uri": "gcr.io/deeplearning-platform-release/tf2-gpu.2-6:m79"
  },
  "kernelspec": {
   "display_name": "Python 3",
   "language": "python",
   "name": "python3"
  },
  "language_info": {
   "codemirror_mode": {
    "name": "ipython",
    "version": 3
   },
   "file_extension": ".py",
   "mimetype": "text/x-python",
   "name": "python",
   "nbconvert_exporter": "python",
   "pygments_lexer": "ipython3",
   "version": "3.8.8"
  }
 },
 "nbformat": 4,
 "nbformat_minor": 4
}
