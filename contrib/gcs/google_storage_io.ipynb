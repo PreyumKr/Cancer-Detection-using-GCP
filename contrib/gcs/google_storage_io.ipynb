{
 "cells": [
  {
   "cell_type": "code",
   "execution_count": null,
   "id": "phantom-defeat",
   "metadata": {},
   "outputs": [],
   "source": [
    "from google.cloud import storage\n",
    "import os\n",
    "\n",
    "import cloudstorage\n",
    "from PIL import Image\n",
    "\n",
    "from io import StringIO, BytesIO\n",
    "import tensorflow as tf\n",
    "import numpy as np\n",
    "from tensorflow.python.lib.io import file_io"
   ]
  },
  {
   "cell_type": "code",
   "execution_count": null,
   "id": "fossil-clinic",
   "metadata": {},
   "outputs": [],
   "source": [
    "# ! pip install cloudstorage"
   ]
  },
  {
   "cell_type": "code",
   "execution_count": null,
   "id": "impressed-castle",
   "metadata": {},
   "outputs": [],
   "source": [
    "PROJECT = 'vernal-buffer-285906'\n",
    "REGION = 'us-west1'\n",
    "BUCKET = 'vernal-buffer-285906'"
   ]
  },
  {
   "cell_type": "code",
   "execution_count": null,
   "id": "graduate-institution",
   "metadata": {},
   "outputs": [],
   "source": [
    "client = storage.Client()\n",
    "bucket = client.get_bucket(BUCKET)"
   ]
  },
  {
   "cell_type": "code",
   "execution_count": null,
   "id": "appointed-relation",
   "metadata": {},
   "outputs": [],
   "source": [
    "# Access a file\n",
    "file = bucket.get_blob('test_cnn/filenames.npy')"
   ]
  },
  {
   "cell_type": "code",
   "execution_count": null,
   "id": "integral-horizon",
   "metadata": {},
   "outputs": [],
   "source": [
    "# download as a string\n",
    "npy_file = file.download_as_string('filenames.npy')"
   ]
  },
  {
   "cell_type": "code",
   "execution_count": null,
   "id": "limiting-vietnam",
   "metadata": {},
   "outputs": [],
   "source": [
    "# list all file names in storage\n",
    "for file in bucket.list_blobs():\n",
    "    print(file.name)"
   ]
  },
  {
   "cell_type": "code",
   "execution_count": null,
   "id": "norwegian-position",
   "metadata": {},
   "outputs": [],
   "source": [
    "# Doesn't work !\n",
    "np.load('gs://vernal-buffer-285906/test_cnn/filenames.npy')"
   ]
  },
  {
   "cell_type": "code",
   "execution_count": null,
   "id": "technical-driver",
   "metadata": {},
   "outputs": [],
   "source": [
    "# Works !\n",
    "f = BytesIO(file_io.read_file_to_string('gs://vernal-buffer-285906/test_cnn/train/y_train.npy', binary_mode=True))\n",
    "data = np.load(f)\n",
    "data"
   ]
  },
  {
   "cell_type": "code",
   "execution_count": null,
   "id": "relative-directory",
   "metadata": {},
   "outputs": [],
   "source": [
    "file_name = 'A_0010_1.LEFT_MLO.ROI.03.png'"
   ]
  },
  {
   "cell_type": "code",
   "execution_count": null,
   "id": "gross-republican",
   "metadata": {},
   "outputs": [],
   "source": [
    "# This downloads the image from GCS which can then be opened by any image reading libraries.\n",
    "image = bucket.get_blob(os.path.join('test_cnn/all_images/', file_name))\n",
    "image.download_to_filename(file_name)"
   ]
  },
  {
   "cell_type": "code",
   "execution_count": 1,
   "id": "twenty-prospect",
   "metadata": {},
   "outputs": [
    {
     "ename": "NameError",
     "evalue": "name 'Image' is not defined",
     "output_type": "error",
     "traceback": [
      "\u001B[1;31m---------------------------------------------------------------------------\u001B[0m",
      "\u001B[1;31mNameError\u001B[0m                                 Traceback (most recent call last)",
      "\u001B[1;32m<ipython-input-1-284edfa24ad6>\u001B[0m in \u001B[0;36m<module>\u001B[1;34m()\u001B[0m\n\u001B[0;32m      1\u001B[0m \u001B[1;33m\u001B[0m\u001B[0m\n\u001B[1;32m----> 2\u001B[1;33m \u001B[0mImage\u001B[0m\u001B[1;33m.\u001B[0m\u001B[0mopen\u001B[0m\u001B[1;33m(\u001B[0m\u001B[0mfile_name\u001B[0m\u001B[1;33m)\u001B[0m\u001B[1;33m\u001B[0m\u001B[1;33m\u001B[0m\u001B[0m\n\u001B[0m\u001B[0;32m      3\u001B[0m \u001B[1;33m\u001B[0m\u001B[0m\n",
      "\u001B[1;31mNameError\u001B[0m: name 'Image' is not defined"
     ]
    }
   ],
   "source": [
    "Image.open(file_name)"
   ]
  },
  {
   "cell_type": "code",
   "execution_count": null,
   "id": "elementary-vinyl",
   "metadata": {},
   "outputs": [],
   "source": []
  },
  {
   "cell_type": "code",
   "execution_count": null,
   "outputs": [],
   "source": [],
   "metadata": {
    "collapsed": false,
    "pycharm": {
     "name": "#%%\n"
    }
   }
  },
  {
   "cell_type": "code",
   "execution_count": null,
   "outputs": [],
   "source": [],
   "metadata": {
    "collapsed": false,
    "pycharm": {
     "name": "#%%\n"
    }
   }
  }
 ],
 "metadata": {
  "environment": {
   "name": "tf2-gpu.2-3.m65",
   "type": "gcloud",
   "uri": "gcr.io/deeplearning-platform-release/tf2-gpu.2-3:m65"
  },
  "kernelspec": {
   "display_name": "Python 3",
   "language": "python",
   "name": "python3"
  },
  "language_info": {
   "codemirror_mode": {
    "name": "ipython",
    "version": 3
   },
   "file_extension": ".py",
   "mimetype": "text/x-python",
   "name": "python",
   "nbconvert_exporter": "python",
   "pygments_lexer": "ipython3",
   "version": "3.7.10"
  }
 },
 "nbformat": 4,
 "nbformat_minor": 5
}