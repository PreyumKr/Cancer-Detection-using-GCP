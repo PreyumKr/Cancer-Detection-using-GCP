{
 "cells": [
  {
   "cell_type": "markdown",
   "metadata": {},
   "source": [
    "# Training the tensorflow model on Google Cloud AI Platform"
   ]
  },
  {
   "cell_type": "code",
   "execution_count": 1,
   "metadata": {},
   "outputs": [],
   "source": [
    "!sudo chown -R jupyter:jupyter /home/jupyter/Breast-Cancer-Detection"
   ]
  },
  {
   "cell_type": "code",
   "execution_count": null,
   "metadata": {},
   "outputs": [],
   "source": [
    "# without this, cv2 throws an error \n",
    "!sudo apt-get install ffmpeg libsm6 libxext6  -y"
   ]
  },
  {
   "cell_type": "code",
   "execution_count": 3,
   "metadata": {},
   "outputs": [],
   "source": [
    "import os"
   ]
  },
  {
   "cell_type": "code",
   "execution_count": 5,
   "metadata": {},
   "outputs": [],
   "source": [
    "PROJECT = 'vernal-buffer-285906'\n",
    "REGION = 'us-west1'\n",
    "BUCKET = 'vernal-buffer-285906'"
   ]
  },
  {
   "cell_type": "code",
   "execution_count": 6,
   "metadata": {},
   "outputs": [],
   "source": [
    "os.environ['BUCKET'] = BUCKET\n",
    "os.environ['PROJECT'] = PROJECT\n",
    "os.environ['REGION'] = REGION\n",
    "os.environ['TFVERSION'] = '2.3'"
   ]
  },
  {
   "cell_type": "code",
   "execution_count": 7,
   "metadata": {},
   "outputs": [
    {
     "name": "stderr",
     "output_type": "stream",
     "text": [
      "Updated property [core/project].\n",
      "Updated property [compute/region].\n"
     ]
    }
   ],
   "source": [
    "%%bash\n",
    "gcloud config set project $PROJECT\n",
    "gcloud config set compute/region $REGION"
   ]
  },
  {
   "cell_type": "code",
   "execution_count": 8,
   "metadata": {},
   "outputs": [],
   "source": [
    "# os.environ['TRAIN_DIR'] = \"/home/jupyter/Breast-Cancer-Detection/data\"\n",
    "# os.environ['OUTPUT_DIR'] = \"/home/jupyter/Breast-Cancer-Detection/model_results\"\n",
    "\n",
    "os.environ['TRAIN_DIR'] = 'test_cnn'\n",
    "os.environ['OUTPUT_DIR'] = 'gs://vernal-buffer-285906/model_results'"
   ]
  },
  {
   "cell_type": "code",
   "execution_count": 30,
   "metadata": {},
   "outputs": [
    {
     "name": "stdout",
     "output_type": "stream",
     "text": [
      "Model: \"sequential\"\n",
      "_________________________________________________________________\n",
      "Layer (type)                 Output Shape              Param #   \n",
      "=================================================================\n",
      "conv2d (Conv2D)              (None, 300, 300, 32)      896       \n",
      "_________________________________________________________________\n",
      "max_pooling2d (MaxPooling2D) (None, 150, 150, 32)      0         \n",
      "_________________________________________________________________\n",
      "conv2d_1 (Conv2D)            (None, 150, 150, 64)      18496     \n",
      "_________________________________________________________________\n",
      "max_pooling2d_1 (MaxPooling2 (None, 75, 75, 64)        0         \n",
      "_________________________________________________________________\n",
      "conv2d_2 (Conv2D)            (None, 75, 75, 128)       73856     \n",
      "_________________________________________________________________\n",
      "max_pooling2d_2 (MaxPooling2 (None, 37, 37, 128)       0         \n",
      "_________________________________________________________________\n",
      "conv2d_3 (Conv2D)            (None, 37, 37, 256)       295168    \n",
      "_________________________________________________________________\n",
      "max_pooling2d_3 (MaxPooling2 (None, 18, 18, 256)       0         \n",
      "_________________________________________________________________\n",
      "conv2d_4 (Conv2D)            (None, 18, 18, 512)       1180160   \n",
      "_________________________________________________________________\n",
      "max_pooling2d_4 (MaxPooling2 (None, 9, 9, 512)         0         \n",
      "_________________________________________________________________\n",
      "flatten (Flatten)            (None, 41472)             0         \n",
      "_________________________________________________________________\n",
      "dense (Dense)                (None, 128)               5308544   \n",
      "_________________________________________________________________\n",
      "dense_1 (Dense)              (None, 1)                 129       \n",
      "=================================================================\n",
      "Total params: 6,877,249\n",
      "Trainable params: 6,877,249\n",
      "Non-trainable params: 0\n",
      "_________________________________________________________________\n",
      "Epoch 1/75\n",
      "5/5 [==============================] - 13s 3s/step - loss: 0.7005 - accuracy: 0.5000 - val_loss: 0.6931 - val_accuracy: 0.5000\n",
      "Epoch 2/75\n",
      "5/5 [==============================] - 9s 2s/step - loss: 0.6931 - accuracy: 0.5000 - val_loss: 0.6931 - val_accuracy: 0.5000\n",
      "Epoch 3/75\n",
      "5/5 [==============================] - 10s 2s/step - loss: 0.6931 - accuracy: 0.5000 - val_loss: 0.6931 - val_accuracy: 0.5000\n",
      "Epoch 4/75\n",
      "5/5 [==============================] - 8s 2s/step - loss: 0.6931 - accuracy: 0.5000 - val_loss: 0.6931 - val_accuracy: 0.5000\n",
      "Epoch 5/75\n",
      "5/5 [==============================] - 9s 2s/step - loss: 0.6931 - accuracy: 0.5000 - val_loss: 0.6931 - val_accuracy: 0.5000\n",
      "Epoch 6/75\n",
      "5/5 [==============================] - 8s 2s/step - loss: 0.6931 - accuracy: 0.5000 - val_loss: 0.6931 - val_accuracy: 0.5000\n",
      "Epoch 7/75\n",
      "5/5 [==============================] - 8s 2s/step - loss: 0.6931 - accuracy: 0.5000 - val_loss: 0.6931 - val_accuracy: 0.5000\n",
      "Epoch 8/75\n",
      "5/5 [==============================] - 9s 2s/step - loss: 0.6931 - accuracy: 0.5000 - val_loss: 0.6931 - val_accuracy: 0.5000\n",
      "Epoch 9/75\n",
      "5/5 [==============================] - 8s 2s/step - loss: 0.6931 - accuracy: 0.5000 - val_loss: 0.6931 - val_accuracy: 0.5000\n",
      "Epoch 10/75\n",
      "5/5 [==============================] - 8s 2s/step - loss: 0.6931 - accuracy: 0.5000 - val_loss: 0.6931 - val_accuracy: 0.5000\n",
      "Epoch 11/75\n",
      "5/5 [==============================] - 9s 2s/step - loss: 0.6931 - accuracy: 0.5000 - val_loss: 0.6931 - val_accuracy: 0.5000\n",
      "Epoch 12/75\n",
      "5/5 [==============================] - 8s 2s/step - loss: 0.6931 - accuracy: 0.5000 - val_loss: 0.6931 - val_accuracy: 0.5000\n",
      "Epoch 13/75\n",
      "5/5 [==============================] - 9s 2s/step - loss: 0.6931 - accuracy: 0.5000 - val_loss: 0.6931 - val_accuracy: 0.5000\n",
      "Epoch 14/75\n",
      "5/5 [==============================] - 9s 2s/step - loss: 0.6931 - accuracy: 0.5000 - val_loss: 0.6931 - val_accuracy: 0.5000\n",
      "Epoch 15/75\n",
      "5/5 [==============================] - 8s 2s/step - loss: 0.6931 - accuracy: 0.5000 - val_loss: 0.6931 - val_accuracy: 0.5000\n",
      "Epoch 16/75\n",
      "5/5 [==============================] - 9s 2s/step - loss: 0.6931 - accuracy: 0.5000 - val_loss: 0.6931 - val_accuracy: 0.5000\n",
      "Epoch 17/75\n",
      "5/5 [==============================] - 9s 2s/step - loss: 0.6931 - accuracy: 0.5000 - val_loss: 0.6931 - val_accuracy: 0.5000\n",
      "Epoch 18/75\n",
      "5/5 [==============================] - 8s 2s/step - loss: 0.6931 - accuracy: 0.5000 - val_loss: 0.6931 - val_accuracy: 0.5000\n",
      "Epoch 19/75\n",
      "5/5 [==============================] - 8s 2s/step - loss: 0.6931 - accuracy: 0.5000 - val_loss: 0.6931 - val_accuracy: 0.5000\n",
      "Epoch 20/75\n",
      "5/5 [==============================] - 10s 2s/step - loss: 0.6931 - accuracy: 0.5000 - val_loss: 0.6931 - val_accuracy: 0.5000\n",
      "Epoch 21/75\n",
      "5/5 [==============================] - 10s 2s/step - loss: 0.6931 - accuracy: 0.5000 - val_loss: 0.6931 - val_accuracy: 0.5000\n",
      "Epoch 22/75\n",
      "5/5 [==============================] - 8s 2s/step - loss: 0.6931 - accuracy: 0.5000 - val_loss: 0.6931 - val_accuracy: 0.5000\n",
      "Epoch 23/75\n",
      "5/5 [==============================] - 9s 2s/step - loss: 0.6931 - accuracy: 0.5000 - val_loss: 0.6931 - val_accuracy: 0.5000\n",
      "Epoch 24/75\n",
      "5/5 [==============================] - 9s 2s/step - loss: 0.6931 - accuracy: 0.5000 - val_loss: 0.6931 - val_accuracy: 0.5000\n",
      "Epoch 25/75\n",
      "5/5 [==============================] - 9s 2s/step - loss: 0.6931 - accuracy: 0.5000 - val_loss: 0.6931 - val_accuracy: 0.5000\n",
      "Epoch 26/75\n",
      "5/5 [==============================] - 8s 2s/step - loss: 0.6931 - accuracy: 0.5000 - val_loss: 0.6931 - val_accuracy: 0.5000\n",
      "Epoch 27/75\n",
      "5/5 [==============================] - 10s 2s/step - loss: 0.6931 - accuracy: 0.5000 - val_loss: 0.6931 - val_accuracy: 0.5000\n",
      "Epoch 28/75\n",
      "5/5 [==============================] - 10s 2s/step - loss: 0.6931 - accuracy: 0.5000 - val_loss: 0.6931 - val_accuracy: 0.5000\n",
      "Epoch 29/75\n",
      "5/5 [==============================] - 9s 2s/step - loss: 0.6931 - accuracy: 0.5000 - val_loss: 0.6931 - val_accuracy: 0.5000\n",
      "Epoch 30/75\n",
      "5/5 [==============================] - 9s 2s/step - loss: 0.6931 - accuracy: 0.5000 - val_loss: 0.6931 - val_accuracy: 0.5000\n",
      "Epoch 31/75\n",
      "5/5 [==============================] - 8s 2s/step - loss: 0.6931 - accuracy: 0.5000 - val_loss: 0.6931 - val_accuracy: 0.5000\n",
      "Epoch 32/75\n",
      "5/5 [==============================] - 10s 2s/step - loss: 0.6931 - accuracy: 0.5000 - val_loss: 0.6931 - val_accuracy: 0.5000\n",
      "Epoch 33/75\n",
      "5/5 [==============================] - 9s 2s/step - loss: 0.6931 - accuracy: 0.5000 - val_loss: 0.6931 - val_accuracy: 0.5000\n",
      "Epoch 34/75\n",
      "5/5 [==============================] - 9s 2s/step - loss: 0.6931 - accuracy: 0.5000 - val_loss: 0.6931 - val_accuracy: 0.5000\n",
      "Epoch 35/75\n",
      "5/5 [==============================] - 9s 2s/step - loss: 0.6931 - accuracy: 0.5000 - val_loss: 0.6931 - val_accuracy: 0.5000\n",
      "Epoch 36/75\n",
      "5/5 [==============================] - 10s 2s/step - loss: 0.6931 - accuracy: 0.5000 - val_loss: 0.6931 - val_accuracy: 0.5000\n",
      "Epoch 37/75\n",
      "5/5 [==============================] - 8s 2s/step - loss: 0.6931 - accuracy: 0.5000 - val_loss: 0.6931 - val_accuracy: 0.5000\n",
      "Epoch 38/75\n",
      "5/5 [==============================] - 8s 2s/step - loss: 0.6931 - accuracy: 0.5000 - val_loss: 0.6931 - val_accuracy: 0.5000\n",
      "Epoch 39/75\n",
      "5/5 [==============================] - 9s 2s/step - loss: 0.6931 - accuracy: 0.5000 - val_loss: 0.6931 - val_accuracy: 0.5000\n",
      "Epoch 40/75\n",
      "5/5 [==============================] - 8s 2s/step - loss: 0.6931 - accuracy: 0.5000 - val_loss: 0.6931 - val_accuracy: 0.5000\n",
      "Epoch 41/75\n",
      "5/5 [==============================] - 8s 2s/step - loss: 0.6931 - accuracy: 0.5000 - val_loss: 0.6931 - val_accuracy: 0.5000\n",
      "Epoch 42/75\n",
      "5/5 [==============================] - 9s 2s/step - loss: 0.6931 - accuracy: 0.5000 - val_loss: 0.6931 - val_accuracy: 0.5000\n",
      "Epoch 43/75\n",
      "5/5 [==============================] - 8s 2s/step - loss: 0.6931 - accuracy: 0.5000 - val_loss: 0.6931 - val_accuracy: 0.5000\n",
      "Epoch 44/75\n",
      "5/5 [==============================] - 8s 2s/step - loss: 0.6931 - accuracy: 0.5000 - val_loss: 0.6931 - val_accuracy: 0.5000\n",
      "Epoch 45/75\n",
      "5/5 [==============================] - 8s 2s/step - loss: 0.6931 - accuracy: 0.5000 - val_loss: 0.6931 - val_accuracy: 0.5000\n",
      "Epoch 46/75\n",
      "5/5 [==============================] - 10s 2s/step - loss: 0.6931 - accuracy: 0.5000 - val_loss: 0.6931 - val_accuracy: 0.5000\n",
      "Epoch 47/75\n",
      "5/5 [==============================] - 9s 2s/step - loss: 0.6931 - accuracy: 0.5000 - val_loss: 0.6931 - val_accuracy: 0.5000\n",
      "Epoch 48/75\n",
      "5/5 [==============================] - 9s 2s/step - loss: 0.6931 - accuracy: 0.5000 - val_loss: 0.6931 - val_accuracy: 0.5000\n",
      "Epoch 49/75\n",
      "5/5 [==============================] - 9s 2s/step - loss: 0.6931 - accuracy: 0.5000 - val_loss: 0.6931 - val_accuracy: 0.5000\n",
      "Epoch 50/75\n",
      "5/5 [==============================] - 10s 2s/step - loss: 0.6931 - accuracy: 0.5000 - val_loss: 0.6931 - val_accuracy: 0.5000\n",
      "Epoch 51/75\n",
      "5/5 [==============================] - 10s 2s/step - loss: 0.6931 - accuracy: 0.5000 - val_loss: 0.6931 - val_accuracy: 0.5000\n",
      "Epoch 52/75\n",
      "5/5 [==============================] - 10s 2s/step - loss: 0.6931 - accuracy: 0.5000 - val_loss: 0.6931 - val_accuracy: 0.5000\n",
      "Epoch 53/75\n",
      "5/5 [==============================] - 8s 2s/step - loss: 0.6931 - accuracy: 0.5000 - val_loss: 0.6931 - val_accuracy: 0.5000\n",
      "Epoch 54/75\n",
      "5/5 [==============================] - 9s 2s/step - loss: 0.6931 - accuracy: 0.5000 - val_loss: 0.6931 - val_accuracy: 0.5000\n",
      "Epoch 55/75\n",
      "5/5 [==============================] - 9s 2s/step - loss: 0.6931 - accuracy: 0.5000 - val_loss: 0.6931 - val_accuracy: 0.5000\n",
      "Epoch 56/75\n",
      "5/5 [==============================] - 8s 2s/step - loss: 0.6931 - accuracy: 0.5000 - val_loss: 0.6931 - val_accuracy: 0.5000\n",
      "Epoch 57/75\n",
      "5/5 [==============================] - 8s 2s/step - loss: 0.6931 - accuracy: 0.5000 - val_loss: 0.6931 - val_accuracy: 0.5000\n",
      "Epoch 58/75\n",
      "5/5 [==============================] - 9s 2s/step - loss: 0.6931 - accuracy: 0.5000 - val_loss: 0.6931 - val_accuracy: 0.5000\n",
      "Epoch 59/75\n",
      "5/5 [==============================] - 8s 2s/step - loss: 0.6931 - accuracy: 0.5000 - val_loss: 0.6931 - val_accuracy: 0.5000\n",
      "Epoch 60/75\n",
      "5/5 [==============================] - 8s 2s/step - loss: 0.6931 - accuracy: 0.5000 - val_loss: 0.6931 - val_accuracy: 0.5000\n",
      "Epoch 61/75\n",
      "5/5 [==============================] - 9s 2s/step - loss: 0.6931 - accuracy: 0.5000 - val_loss: 0.6931 - val_accuracy: 0.5000\n",
      "Epoch 62/75\n",
      "5/5 [==============================] - 10s 2s/step - loss: 0.6931 - accuracy: 0.5000 - val_loss: 0.6931 - val_accuracy: 0.5000\n",
      "Epoch 63/75\n",
      "5/5 [==============================] - 8s 2s/step - loss: 0.6931 - accuracy: 0.5000 - val_loss: 0.6931 - val_accuracy: 0.5000\n",
      "Epoch 64/75\n",
      "5/5 [==============================] - 9s 2s/step - loss: 0.6931 - accuracy: 0.5000 - val_loss: 0.6931 - val_accuracy: 0.5000\n",
      "Epoch 65/75\n",
      "5/5 [==============================] - 9s 2s/step - loss: 0.6931 - accuracy: 0.5000 - val_loss: 0.6931 - val_accuracy: 0.5000\n",
      "Epoch 66/75\n",
      "5/5 [==============================] - 8s 2s/step - loss: 0.6931 - accuracy: 0.5000 - val_loss: 0.6931 - val_accuracy: 0.5000\n",
      "Epoch 67/75\n",
      "5/5 [==============================] - 9s 2s/step - loss: 0.6931 - accuracy: 0.5000 - val_loss: 0.6931 - val_accuracy: 0.5000\n",
      "Epoch 68/75\n",
      "5/5 [==============================] - 9s 2s/step - loss: 0.6931 - accuracy: 0.5000 - val_loss: 0.6931 - val_accuracy: 0.5000\n",
      "Epoch 69/75\n",
      "5/5 [==============================] - 8s 2s/step - loss: 0.6931 - accuracy: 0.5000 - val_loss: 0.6931 - val_accuracy: 0.5000\n",
      "Epoch 70/75\n",
      "5/5 [==============================] - 9s 2s/step - loss: 0.6931 - accuracy: 0.5000 - val_loss: 0.6931 - val_accuracy: 0.5000\n",
      "Epoch 71/75\n",
      "5/5 [==============================] - 9s 2s/step - loss: 0.6931 - accuracy: 0.5000 - val_loss: 0.6931 - val_accuracy: 0.5000\n",
      "Epoch 72/75\n",
      "5/5 [==============================] - 10s 2s/step - loss: 0.6931 - accuracy: 0.5000 - val_loss: 0.6931 - val_accuracy: 0.5000\n",
      "Epoch 73/75\n",
      "5/5 [==============================] - 9s 2s/step - loss: 0.6931 - accuracy: 0.5000 - val_loss: 0.6931 - val_accuracy: 0.5000\n",
      "Epoch 74/75\n",
      "5/5 [==============================] - 9s 2s/step - loss: 0.6931 - accuracy: 0.5000 - val_loss: 0.6931 - val_accuracy: 0.5000\n",
      "Epoch 75/75\n",
      "5/5 [==============================] - 10s 2s/step - loss: 0.6931 - accuracy: 0.5000 - val_loss: 0.6931 - val_accuracy: 0.5000\n"
     ]
    },
    {
     "name": "stderr",
     "output_type": "stream",
     "text": [
      "2021-03-11 14:44:26.966379: I tensorflow/core/platform/profile_utils/cpu_utils.cc:104] CPU Frequency: 2200200000 Hz\n",
      "2021-03-11 14:44:26.967186: I tensorflow/compiler/xla/service/service.cc:168] XLA service 0x561b20e54500 initialized for platform Host (this does not guarantee that XLA will be used). Devices:\n",
      "2021-03-11 14:44:26.967223: I tensorflow/compiler/xla/service/service.cc:176]   StreamExecutor device (0): Host, Default Version\n",
      "2021-03-11 14:44:26.967379: I tensorflow/core/common_runtime/process_util.cc:146] Creating new thread pool with default inter op setting: 2. Tune using inter_op_parallelism_threads for best performance.\n",
      "Copying gs://vernal-buffer-285906/test_cnn/all_images.zip...\n",
      "/ [1 files][ 10.6 MiB/ 10.6 MiB]                                                \n",
      "Operation completed over 1 objects/10.6 MiB.                                     \n",
      "2021-03-11 14:44:31.378916: I tensorflow/core/profiler/lib/profiler_session.cc:164] Profiler session started.\n",
      "2021-03-11 14:44:35.674401: I tensorflow/core/profiler/lib/profiler_session.cc:164] Profiler session started.\n",
      "WARNING:tensorflow:From /opt/conda/lib/python3.7/site-packages/tensorflow/python/ops/summary_ops_v2.py:1277: stop (from tensorflow.python.eager.profiler) is deprecated and will be removed after 2020-07-01.\n",
      "Instructions for updating:\n",
      "use `tf.profiler.experimental.stop` instead.\n",
      "2021-03-11 14:44:39.041249: I tensorflow/core/profiler/rpc/client/save_profile.cc:176] Creating directory: gs://vernal-buffer-285906/model_results/tensorboard/train/plugins/profile/2021_03_11_14_44_38\n",
      "2021-03-11 14:44:39.333980: I tensorflow/core/profiler/rpc/client/save_profile.cc:182] Dumped gzipped tool data for trace.json.gz to gs://vernal-buffer-285906/model_results/tensorboard/train/plugins/profile/2021_03_11_14_44_38/tensorflow-2-3-20210311-170445.trace.json.gz\n",
      "2021-03-11 14:44:39.542961: I tensorflow/core/profiler/rpc/client/save_profile.cc:176] Creating directory: gs://vernal-buffer-285906/model_results/tensorboard/train/plugins/profile/2021_03_11_14_44_38\n",
      "2021-03-11 14:44:39.782085: I tensorflow/core/profiler/rpc/client/save_profile.cc:182] Dumped gzipped tool data for memory_profile.json.gz to gs://vernal-buffer-285906/model_results/tensorboard/train/plugins/profile/2021_03_11_14_44_38/tensorflow-2-3-20210311-170445.memory_profile.json.gz\n",
      "2021-03-11 14:44:41.235994: I tensorflow/python/profiler/internal/profiler_wrapper.cc:111] Creating directory: gs://vernal-buffer-285906/model_results/tensorboard/train/plugins/profile/2021_03_11_14_44_38Dumped tool data for xplane.pb to gs://vernal-buffer-285906/model_results/tensorboard/train/plugins/profile/2021_03_11_14_44_38/tensorflow-2-3-20210311-170445.xplane.pb\n",
      "Dumped tool data for overview_page.pb to gs://vernal-buffer-285906/model_results/tensorboard/train/plugins/profile/2021_03_11_14_44_38/tensorflow-2-3-20210311-170445.overview_page.pb\n",
      "Dumped tool data for input_pipeline.pb to gs://vernal-buffer-285906/model_results/tensorboard/train/plugins/profile/2021_03_11_14_44_38/tensorflow-2-3-20210311-170445.input_pipeline.pb\n",
      "Dumped tool data for tensorflow_stats.pb to gs://vernal-buffer-285906/model_results/tensorboard/train/plugins/profile/2021_03_11_14_44_38/tensorflow-2-3-20210311-170445.tensorflow_stats.pb\n",
      "Dumped tool data for kernel_stats.pb to gs://vernal-buffer-285906/model_results/tensorboard/train/plugins/profile/2021_03_11_14_44_38/tensorflow-2-3-20210311-170445.kernel_stats.pb\n",
      "\n",
      "WARNING:tensorflow:Callbacks method `on_train_batch_end` is slow compared to the batch time (batch time: 2.2089s vs `on_train_batch_end` time: 3.3536s). Check your callbacks.\n",
      "\n",
      "real\t15m18.053s\n",
      "user\t21m26.481s\n",
      "sys\t3m6.255s\n"
     ]
    }
   ],
   "source": [
    "%%bash\n",
    "export PYTHONPATH=${PYTHONPATH}:${PWD}/tf_trainer\n",
    "#Train using python\n",
    "time python -m trainer.task \\\n",
    " --input-dir=$TRAIN_DIR \\\n",
    " --output-dir=$OUTPUT_DIR \\\n",
    " --bucket=$BUCKET \\\n",
    " --num-epochs=75 \\\n",
    " --batch_size=10 \\\n",
    " --steps-per-epoch=5"
   ]
  },
  {
   "cell_type": "code",
   "execution_count": 24,
   "metadata": {},
   "outputs": [
    {
     "name": "stdout",
     "output_type": "stream",
     "text": [
      "gs://vernal-buffer-285906/model_results us-west1 breastcancer_210311_122832\n",
      "jobId: breastcancer_210311_122832\n",
      "state: QUEUED\n"
     ]
    },
    {
     "name": "stderr",
     "output_type": "stream",
     "text": [
      "Job [breastcancer_210311_122832] submitted successfully.\n",
      "Your job is still active. You may view the status of your job with the command\n",
      "\n",
      "  $ gcloud ai-platform jobs describe breastcancer_210311_122832\n",
      "\n",
      "or continue streaming the logs with the command\n",
      "\n",
      "  $ gcloud ai-platform jobs stream-logs breastcancer_210311_122832\n"
     ]
    }
   ],
   "source": [
    "%%bash\n",
    "export PYTHONPATH=${PYTHONPATH}:${PWD}/tf_trainer\n",
    "    \n",
    "OUTDIR=$OUTPUT_DIR\n",
    "JOBNAME=breastcancer_$(date -u +%y%m%d_%H%M%S)\n",
    "echo $OUTDIR $REGION $JOBNAME\n",
    "gcloud ai-platform jobs submit training $JOBNAME \\\n",
    "  --region=$REGION \\\n",
    "  --module-name=trainer.task \\\n",
    "  --package-path=$(pwd)/tf_trainer/trainer \\\n",
    "  --job-dir=$OUTDIR \\\n",
    "  --staging-bucket=gs://$BUCKET \\\n",
    "  --scale-tier=BASIC \\\n",
    "  --runtime-version=2.3 \\\n",
    "  --python-version=3.7 \\\n",
    "  -- \\\n",
    "  --bucket=$BUCKET \\\n",
    "  --output-dir=$OUTDIR \\\n",
    "  --input-dir=$TRAIN_DIR \\\n",
    "  --num-epochs=75 \\\n",
    "  --batch_size=10 \\\n",
    "  --steps-per-epoch=5"
   ]
  },
  {
   "cell_type": "code",
   "execution_count": null,
   "metadata": {},
   "outputs": [],
   "source": [
    "# Running TensorBoard\n",
    "# Open the port you are supposed to use (usually 6006) in Google cloud vm instance\n",
    "# info -> https://docs.bitnami.com/google/faq/administration/use-firewall/\n",
    "# Run tensorboard using following command\n",
    "# tensorboard --logdir <path/to/log/directory> --bind_all\n",
    "# Ex:\n",
    "# tensorboard --logdir gs://vernal-buffer-285906/model_results/tensorboard --bind_all"
   ]
  },
  {
   "cell_type": "code",
   "execution_count": null,
   "metadata": {},
   "outputs": [],
   "source": []
  }
 ],
 "metadata": {
  "environment": {
   "name": "tf2-gpu.2-3.m65",
   "type": "gcloud",
   "uri": "gcr.io/deeplearning-platform-release/tf2-gpu.2-3:m65"
  },
  "kernelspec": {
   "display_name": "Python 3",
   "language": "python",
   "name": "python3"
  },
  "language_info": {
   "codemirror_mode": {
    "name": "ipython",
    "version": 3
   },
   "file_extension": ".py",
   "mimetype": "text/x-python",
   "name": "python",
   "nbconvert_exporter": "python",
   "pygments_lexer": "ipython3",
   "version": "3.7.10"
  }
 },
 "nbformat": 4,
 "nbformat_minor": 4
}
