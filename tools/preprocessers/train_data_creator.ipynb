{
 "cells": [
  {
   "cell_type": "markdown",
   "metadata": {},
   "source": [
    "# Train Dataset Creator\n",
    "\n",
    "- This notebook creates creates a numpy representation of image names and lables.\n",
    "- Source directory should contain one folder for one class of images.\n",
    "- An empty destination directory must be given.\n",
    "- Once notebook is run completely, 3 folders will be created in destination directory.\n",
    "    - all images: contains all images supposed to be used for training.\n",
    "    - train: contains 2 npy files. one containing train image names and one containing labels.\n",
    "    - val: contains 2 npy files. one containing validation image names and one containing labels.\n",
    "- All these folders/files will be processed later by a custom generator which feeds images into a image classification model."
   ]
  },
  {
   "cell_type": "code",
   "execution_count": 1,
   "metadata": {},
   "outputs": [
    {
     "data": {
      "text/html": [
       "<style>.container { width:100% !important; }</style>"
      ],
      "text/plain": [
       "<IPython.core.display.HTML object>"
      ]
     },
     "metadata": {},
     "output_type": "display_data"
    }
   ],
   "source": [
    "from IPython.core.display import display, HTML\n",
    "display(HTML(\"<style>.container { width:100% !important; }</style>\"))"
   ]
  },
  {
   "cell_type": "code",
   "execution_count": 2,
   "metadata": {},
   "outputs": [],
   "source": [
    "import os\n",
    "import shutil\n",
    "import numpy as np\n",
    "\n",
    "from sklearn.utils import shuffle\n",
    "\n",
    "# from tensorflow.keras.utils import to_categorical\n",
    "from sklearn.model_selection import train_test_split"
   ]
  },
  {
   "cell_type": "code",
   "execution_count": 4,
   "metadata": {},
   "outputs": [],
   "source": [
    "# source directory is where actual images are stored at. In this folder there should be one folder for every class containing images corresponding only to that class\n",
    "src_dir = r'C:\\Users\\subrahm\\Documents\\breast-cancer-detection\\data\\DDSM\\train_data\\final_train_new_ddsm\\images'\n",
    "\n",
    "# destination directory should be an empty directory. This is where prepared dataset will be stored at\n",
    "dest_dir = r'C:\\Users\\subrahm\\Documents\\breast-cancer-detection\\data\\DDSM\\train_data\\final_train_new_ddsm\\train_data'\n",
    "counter = 0\n",
    "\n",
    "# checking if destination directory is empty\n",
    "if len(os.listdir(dest_dir)) != 0:\n",
    "    raise ValueError(f\"destination directory '{dest_dir}' is not empty\")"
   ]
  },
  {
   "cell_type": "code",
   "execution_count": 5,
   "metadata": {},
   "outputs": [],
   "source": [
    "# Create directories to store training data\n",
    "\n",
    "all_img_dir = os.path.join(dest_dir, 'all_images')\n",
    "train_dir = os.path.join(dest_dir, 'train')\n",
    "val_dir = os.path.join(dest_dir, 'val')\n",
    "\n",
    "os.makedirs(all_img_dir)\n",
    "os.makedirs(train_dir)\n",
    "os.makedirs(val_dir)"
   ]
  },
  {
   "cell_type": "code",
   "execution_count": 6,
   "metadata": {},
   "outputs": [],
   "source": [
    "# Copy all images to all images directory\n",
    "\n",
    "for subdir, dirs, files in os.walk(src_dir):\n",
    "    for file in files:\n",
    "        full_path = os.path.join(subdir, file)\n",
    "        shutil.copy(full_path, all_img_dir)\n",
    "        counter = counter + 1"
   ]
  },
  {
   "cell_type": "code",
   "execution_count": 7,
   "metadata": {
    "scrolled": false
   },
   "outputs": [],
   "source": [
    "len_files = len(os.listdir(all_img_dir))\n",
    "filenames_counter = 0\n",
    "labels_counter = 0\n",
    "\n",
    "filenames = []\n",
    "labels = np.zeros((len_files, 1))"
   ]
  },
  {
   "cell_type": "markdown",
   "metadata": {},
   "source": [
    "## Labelling"
   ]
  },
  {
   "cell_type": "code",
   "execution_count": 8,
   "metadata": {},
   "outputs": [
    {
     "name": "stdout",
     "output_type": "stream",
     "text": [
      "for Benign, label is 0\n",
      "for Malignant, label is 1\n",
      "(13050,)\n",
      "(13050, 1)\n"
     ]
    }
   ],
   "source": [
    "for img_dir in os.listdir(src_dir):\n",
    "    files = os.listdir(os.path.join(src_dir, img_dir))\n",
    "    print(f\"for {img_dir}, label is {labels_counter}\")\n",
    "    \n",
    "    for file in files:\n",
    "        filenames.append(file)\n",
    "        labels[filenames_counter, 0] = labels_counter\n",
    "        filenames_counter = filenames_counter + 1\n",
    "    labels_counter = labels_counter+1\n",
    "\n",
    "filenames = np.array(filenames)\n",
    "\n",
    "print(filenames.shape)\n",
    "print(labels.shape)"
   ]
  },
  {
   "cell_type": "code",
   "execution_count": 9,
   "metadata": {},
   "outputs": [],
   "source": [
    "filenames_shuffled, labels_shuffled = shuffle(filenames, labels)"
   ]
  },
  {
   "cell_type": "code",
   "execution_count": 10,
   "metadata": {},
   "outputs": [],
   "source": [
    "X_train_filenames, X_val_filenames, y_train, y_val = train_test_split(\n",
    "    filenames_shuffled, labels_shuffled, test_size=0.2, random_state=1)"
   ]
  },
  {
   "cell_type": "code",
   "execution_count": 11,
   "metadata": {},
   "outputs": [
    {
     "name": "stdout",
     "output_type": "stream",
     "text": [
      "(10440,)\n",
      "(10440, 1)\n",
      "(2610,)\n",
      "(2610, 1)\n"
     ]
    }
   ],
   "source": [
    "print(X_train_filenames.shape) \n",
    "print(y_train.shape)           \n",
    "\n",
    "print(X_val_filenames.shape)   \n",
    "print(y_val.shape)             \n"
   ]
  },
  {
   "cell_type": "code",
   "execution_count": 12,
   "metadata": {},
   "outputs": [],
   "source": [
    "# These npy files are the ones which will be used during training and validation.\n",
    "np.save(os.path.join(train_dir, 'X_train_filenames.npy'), X_train_filenames)\n",
    "np.save(os.path.join(train_dir, 'y_train.npy'), y_train)\n",
    "\n",
    "np.save(os.path.join(val_dir, 'X_val_filenames.npy'), X_val_filenames)\n",
    "np.save(os.path.join(val_dir, 'y_val.npy'), y_val)"
   ]
  },
  {
   "cell_type": "code",
   "execution_count": 13,
   "metadata": {},
   "outputs": [
    {
     "data": {
      "text/plain": [
       "'C:\\\\Users\\\\subrahm\\\\Documents\\\\breast-cancer-detection\\\\data\\\\DDSM\\\\train_data\\\\final_train_new_ddsm\\\\train_data\\\\all_images.zip'"
      ]
     },
     "execution_count": 13,
     "metadata": {},
     "output_type": "execute_result"
    }
   ],
   "source": [
    "# Create a zip file of all_images directory\n",
    "shutil.make_archive(all_img_dir, \"zip\", all_img_dir)"
   ]
  },
  {
   "cell_type": "code",
   "execution_count": 14,
   "metadata": {},
   "outputs": [],
   "source": [
    "# Remove all images directory as it's of no use now.\n",
    "shutil.rmtree(all_img_dir)"
   ]
  },
  {
   "cell_type": "code",
   "execution_count": null,
   "metadata": {},
   "outputs": [],
   "source": []
  }
 ],
 "metadata": {
  "kernelspec": {
   "display_name": "Python 3",
   "language": "python",
   "name": "python3"
  },
  "language_info": {
   "codemirror_mode": {
    "name": "ipython",
    "version": 3
   },
   "file_extension": ".py",
   "mimetype": "text/x-python",
   "name": "python",
   "nbconvert_exporter": "python",
   "pygments_lexer": "ipython3",
   "version": "3.7.6"
  }
 },
 "nbformat": 4,
 "nbformat_minor": 4
}
