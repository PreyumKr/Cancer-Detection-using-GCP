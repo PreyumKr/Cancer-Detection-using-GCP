{
 "cells": [
  {
   "cell_type": "code",
   "execution_count": 56,
   "metadata": {},
   "outputs": [
    {
     "data": {
      "text/plain": [
       "'2.1.0'"
      ]
     },
     "execution_count": 56,
     "metadata": {},
     "output_type": "execute_result"
    }
   ],
   "source": [
    "import matplotlib.pyplot as plt\n",
    "import numpy as np\n",
    "import os\n",
    "import glob\n",
    "from PIL import Image\n",
    "import tensorflow as tf\n",
    "\n",
    "from tensorflow import keras\n",
    "from tensorflow.keras import layers\n",
    "from tensorflow.keras.models import Sequential\n",
    "\n",
    "\n",
    "AUTOTUNE=tf.data.experimental.AUTOTUNE\n",
    "\n",
    "tf.__version__"
   ]
  },
  {
   "cell_type": "code",
   "execution_count": 95,
   "metadata": {},
   "outputs": [],
   "source": [
    "DATA_PATH = r'C:\\Users\\subrahm\\Documents\\breast-cancer-detection\\Breast-Cancer-Detection\\data\\split_data'"
   ]
  },
  {
   "cell_type": "code",
   "execution_count": 97,
   "metadata": {},
   "outputs": [
    {
     "data": {
      "text/plain": [
       "'total images: 4627'"
      ]
     },
     "execution_count": 97,
     "metadata": {},
     "output_type": "execute_result"
    }
   ],
   "source": [
    "num_images = len(list(glob.glob(os.path.join(img_dir, '*/*/*.png'))))\n",
    "\"total images: {}\".format(num_images)"
   ]
  },
  {
   "cell_type": "code",
   "execution_count": 98,
   "metadata": {},
   "outputs": [],
   "source": [
    "train_dir = os.path.join(DATA_PATH,'train')\n",
    "val_dir = os.path.join(DATA_PATH,'val')"
   ]
  },
  {
   "cell_type": "code",
   "execution_count": null,
   "metadata": {},
   "outputs": [],
   "source": [
    "Image.open(list(glob.glob(train_dir+'/*/*.png'))[0])"
   ]
  },
  {
   "cell_type": "code",
   "execution_count": 99,
   "metadata": {},
   "outputs": [
    {
     "data": {
      "text/plain": [
       "\"classes: ['normal_tissue' 'tumor']\""
      ]
     },
     "execution_count": 99,
     "metadata": {},
     "output_type": "execute_result"
    }
   ],
   "source": [
    "CLASSES = np.array([item for item in os.listdir(train_dir)])\n",
    "\"classes: {}\".format(CLASSES)"
   ]
  },
  {
   "cell_type": "code",
   "execution_count": 104,
   "metadata": {},
   "outputs": [
    {
     "name": "stdout",
     "output_type": "stream",
     "text": [
      "Train:\n",
      "number of images belonging to normal_tissue class: 1864\n",
      "number of images belonging to tumor class: 1836\n",
      "\n",
      "Validation:\n",
      "number of images belonging to normal_tissue class: 233\n",
      "number of images belonging to tumor class: 229\n"
     ]
    }
   ],
   "source": [
    "print('Train:')\n",
    "for cls in CLASSES:\n",
    "    print(f\"number of images belonging to {cls} class: {len(os.listdir(os.path.join(train_dir,cls)))}\")\n",
    "    \n",
    "print('\\nValidation:')\n",
    "for cls in CLASSES:\n",
    "    print(f\"number of images belonging to {cls} class: {len(os.listdir(os.path.join(val_dir,cls)))}\")"
   ]
  },
  {
   "cell_type": "code",
   "execution_count": 105,
   "metadata": {},
   "outputs": [],
   "source": [
    "BATCH_SIZE = 128\n",
    "EXPOCHS = 15\n",
    "IMG_HEIGHT = 256\n",
    "IMG_WIDTH = 256"
   ]
  },
  {
   "cell_type": "code",
   "execution_count": 106,
   "metadata": {},
   "outputs": [],
   "source": [
    "train_list_ds = tf.data.Dataset.list_files(os.path.join(train_dir, '*/*.png'))\n",
    "val_list_ds = tf.data.Dataset.list_files(os.path.join(val_dir, '*/*.png'))"
   ]
  },
  {
   "cell_type": "code",
   "execution_count": 107,
   "metadata": {
    "scrolled": true
   },
   "outputs": [
    {
     "name": "stdout",
     "output_type": "stream",
     "text": [
      "tf.Tensor(b'C:\\\\Users\\\\subrahm\\\\Documents\\\\breast-cancer-detection\\\\Breast-Cancer-Detection\\\\data\\\\split_data\\\\train\\\\tumor\\\\A_1434_1.RIGHT_CC.ROI.01.png', shape=(), dtype=string)\n",
      "tf.Tensor(b'C:\\\\Users\\\\subrahm\\\\Documents\\\\breast-cancer-detection\\\\Breast-Cancer-Detection\\\\data\\\\split_data\\\\val\\\\normal_tissue\\\\A_0112_1.LEFT_CC.ROI.04.png', shape=(), dtype=string)\n"
     ]
    }
   ],
   "source": [
    "for f in train_list_ds.take(1):\n",
    "    print(f)\n",
    "    \n",
    "for f in val_list_ds.take(1):\n",
    "    print(f)"
   ]
  },
  {
   "cell_type": "code",
   "execution_count": 108,
   "metadata": {},
   "outputs": [],
   "source": [
    "def get_label(file_path):\n",
    "    parts = tf.strings.split(file_path, '\\\\')\n",
    "    return parts[-2] == classes"
   ]
  },
  {
   "cell_type": "code",
   "execution_count": 109,
   "metadata": {},
   "outputs": [],
   "source": [
    "def decode_image(img):\n",
    "    img = tf.image.decode_png(img, channels=3) \n",
    "    img = tf.image.convert_image_dtype(img, tf.float32)\n",
    "    return tf.image.resize(img, [IMG_WIDTH, IMG_HEIGHT]) "
   ]
  },
  {
   "cell_type": "code",
   "execution_count": 110,
   "metadata": {},
   "outputs": [],
   "source": [
    "def process_path(file_path):\n",
    "    label = get_label(file_path)\n",
    "    img = tf.io.read_file(file_path)\n",
    "    img = decode_image(img)\n",
    "    return img, label"
   ]
  },
  {
   "cell_type": "code",
   "execution_count": 111,
   "metadata": {},
   "outputs": [],
   "source": [
    "train_ds = train_list_ds.map(process_path, num_parallel_calls=AUTOTUNE)\n",
    "val_ds = val_list_ds.map(process_path, num_parallel_calls=AUTOTUNE)"
   ]
  },
  {
   "cell_type": "code",
   "execution_count": 112,
   "metadata": {},
   "outputs": [
    {
     "name": "stdout",
     "output_type": "stream",
     "text": [
      "Image shape:  (256, 256, 3)\n",
      "Label:  [False  True]\n",
      "Image shape:  (256, 256, 3)\n",
      "Label:  [ True False]\n"
     ]
    }
   ],
   "source": [
    "for image, label in train_ds.take(1):\n",
    "    print(\"Image shape: \", image.numpy().shape)\n",
    "    print(\"Label: \", label.numpy())\n",
    "    \n",
    "for image, label in val_ds.take(1):\n",
    "    print(\"Image shape: \", image.numpy().shape)\n",
    "    print(\"Label: \", label.numpy())    "
   ]
  },
  {
   "cell_type": "code",
   "execution_count": 117,
   "metadata": {},
   "outputs": [
    {
     "name": "stdout",
     "output_type": "stream",
     "text": [
      "(256, 256, 3)\n",
      "(2,)\n"
     ]
    }
   ],
   "source": [
    "for image_batch, labels_batch in train_ds:\n",
    "    print(image_batch.shape)\n",
    "    print(labels_batch.shape)"
   ]
  },
  {
   "cell_type": "code",
   "execution_count": null,
   "metadata": {},
   "outputs": [],
   "source": []
  }
 ],
 "metadata": {
  "kernelspec": {
   "display_name": "Python 3",
   "language": "python",
   "name": "python3"
  },
  "language_info": {
   "codemirror_mode": {
    "name": "ipython",
    "version": 3
   },
   "file_extension": ".py",
   "mimetype": "text/x-python",
   "name": "python",
   "nbconvert_exporter": "python",
   "pygments_lexer": "ipython3",
   "version": "3.7.7"
  }
 },
 "nbformat": 4,
 "nbformat_minor": 4
}
