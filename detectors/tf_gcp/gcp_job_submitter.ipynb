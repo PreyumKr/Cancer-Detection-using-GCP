{
 "cells": [
  {
   "cell_type": "markdown",
   "metadata": {},
   "source": [
    "# Training the tensorflow model on Google Cloud AI Platform\n",
    "Use this notebook to either run models locally or in Google Cloud with or without using  AI Platform"
   ]
  },
  {
   "cell_type": "code",
   "execution_count": null,
   "metadata": {},
   "outputs": [],
   "source": [
    "from IPython.core.display import display, HTML\n",
    "display(HTML(\"<style>.container { width:100% !important; }</style>\"))"
   ]
  },
  {
   "cell_type": "code",
   "execution_count": null,
   "metadata": {},
   "outputs": [],
   "source": [
    "!sudo chown -R jupyter:jupyter /home/jupyter/Breast-Cancer-Detection"
   ]
  },
  {
   "cell_type": "code",
   "execution_count": null,
   "metadata": {},
   "outputs": [],
   "source": [
    "# without this, cv2 throws an error, install it before proceeding\n",
    "# !sudo apt-get install ffmpeg libsm6 libxext6  -y"
   ]
  },
  {
   "cell_type": "code",
   "execution_count": null,
   "metadata": {},
   "outputs": [],
   "source": [
    "import os"
   ]
  },
  {
   "cell_type": "code",
   "execution_count": null,
   "metadata": {},
   "outputs": [],
   "source": [
    "# Google cloud details, not required if running on a local system\n",
    "PROJECT = 'vernal-buffer-285906'\n",
    "REGION = 'us-west1'\n",
    "BUCKET = 'vernal-buffer-285906'\n",
    "\n",
    "os.environ['BUCKET'] = BUCKET\n",
    "os.environ['PROJECT'] = PROJECT\n",
    "os.environ['REGION'] = REGION\n",
    "os.environ['TFVERSION'] = '2.3'"
   ]
  },
  {
   "cell_type": "code",
   "execution_count": null,
   "metadata": {},
   "outputs": [],
   "source": [
    "%%bash\n",
    "gcloud config set project $PROJECT\n",
    "gcloud config set compute/region $REGION"
   ]
  },
  {
   "cell_type": "code",
   "execution_count": null,
   "metadata": {},
   "outputs": [],
   "source": [
    "# set train and output directories\n",
    "\n",
    "# os.environ['TRAIN_DIR'] = \"/home/jupyter/Breast-Cancer-Detection/data\"\n",
    "# os.environ['OUTPUT_DIR'] = \"/home/jupyter/Breast-Cancer-Detection/model_results\"\n",
    "\n",
    "os.environ['TRAIN_DIR'] = 'gs://vernal-buffer-285906/test_cnn'\n",
    "os.environ['OUTPUT_DIR'] = 'gs://vernal-buffer-285906/model_results'"
   ]
  },
  {
   "cell_type": "markdown",
   "metadata": {},
   "source": [
    "## Running Locally"
   ]
  },
  {
   "cell_type": "code",
   "execution_count": null,
   "metadata": {},
   "outputs": [],
   "source": [
    "%%bash\n",
    "\n",
    "# export python path and run command. Bucket argument is optional, not required if not using Google Cloud machine\n",
    "export PYTHONPATH=${PYTHONPATH}:/home/jupyter/Breast-Cancer-Detection/\n",
    "\n",
    "# Train using python\n",
    "python -m detectors.tf_gcp.trainer.task \\\n",
    " --input-dir=$TRAIN_DIR \\\n",
    " --output-dir=$OUTPUT_DIR \\\n",
    " --bucket=$BUCKET \\\n",
    " --num-epochs=50 \\\n",
    " --batch_size=32 \\\n",
    " --steps-per-epoch=113"
   ]
  },
  {
   "cell_type": "markdown",
   "metadata": {},
   "source": [
    "## Submitting to Google Cloud AI Platform"
   ]
  },
  {
   "cell_type": "code",
   "execution_count": null,
   "metadata": {},
   "outputs": [],
   "source": [
    "%%bash\n",
    "\n",
    "# export python path and run command. Command submits job to AI platform. This can't be run on local machine. Has to be using Google Cloud AI notebooks.\n",
    "export PYTHONPATH=${PYTHONPATH}:${PWD}/tf_trainer\n",
    "    \n",
    "OUTDIR=$OUTPUT_DIR\n",
    "JOBNAME=breastcancer_$(date -u +%y%m%d_%H%M%S)\n",
    "echo $OUTDIR $REGION $JOBNAME\n",
    "gcloud ai-platform jobs submit training $JOBNAME \\\n",
    "  --region=$REGION \\\n",
    "  --module-name=trainer.task \\\n",
    "  --package-path=$(pwd)/tf_trainer/trainer \\\n",
    "  --job-dir=$OUTDIR \\\n",
    "  --staging-bucket=gs://$BUCKET \\\n",
    "  --scale-tier=BASIC \\\n",
    "  --runtime-version=2.3 \\\n",
    "  --python-version=3.7 \\\n",
    "  -- \\\n",
    "  --bucket=$BUCKET \\\n",
    "  --output-dir=$OUTDIR \\\n",
    "  --input-dir=$TRAIN_DIR \\\n",
    "  --num-epochs=50 \\\n",
    "  --batch_size=32 \\\n",
    "  --steps-per-epoch=113"
   ]
  },
  {
   "cell_type": "markdown",
   "metadata": {},
   "source": [
    "## Monitoring Training using Tensorboard "
   ]
  },
  {
   "cell_type": "code",
   "execution_count": null,
   "metadata": {},
   "outputs": [],
   "source": [
    "# Instructions to run TensorBoard in google cloud\n",
    "\n",
    "# Open the port you are supposed to use (usually 6006) in Google cloud vm instance\n",
    "# info -> https://docs.bitnami.com/google/faq/administration/use-firewall/\n",
    "# Run tensorboard using following command\n",
    "# tensorboard --logdir <path/to/log/directory> --bind_all\n",
    "# Ex:\n",
    "# tensorboard --logdir gs://vernal-buffer-285906/model_results/tensorboard --bind_all"
   ]
  },
  {
   "cell_type": "code",
   "execution_count": null,
   "metadata": {},
   "outputs": [],
   "source": []
  }
 ],
 "metadata": {
  "environment": {
   "name": "tf2-gpu.2-1.m65",
   "type": "gcloud",
   "uri": "gcr.io/deeplearning-platform-release/tf2-gpu.2-1:m65"
  },
  "kernelspec": {
   "display_name": "Python 3",
   "language": "python",
   "name": "python3"
  },
  "language_info": {
   "codemirror_mode": {
    "name": "ipython",
    "version": 3
   },
   "file_extension": ".py",
   "mimetype": "text/x-python",
   "name": "python",
   "nbconvert_exporter": "python",
   "pygments_lexer": "ipython3",
   "version": "3.7.9"
  }
 },
 "nbformat": 4,
 "nbformat_minor": 4
}