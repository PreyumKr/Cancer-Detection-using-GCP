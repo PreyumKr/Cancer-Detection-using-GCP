{
 "cells": [
  {
   "cell_type": "markdown",
   "metadata": {},
   "source": [
    "# Dicom to Jpg Converter\n",
    "Converted dicom format images to jpg format in segmented form.\n",
    "read more about dicom format-\n",
    " https://en.wikipedia.org/wiki/DICOM"
   ]
  },
  {
   "cell_type": "code",
   "execution_count": null,
   "metadata": {},
   "outputs": [],
   "source": [
    "# !pip install pydicom\n",
    "# !pip install opencv-python\n",
    "# !pip install pillow "
   ]
  },
  {
   "cell_type": "code",
   "execution_count": 1,
   "metadata": {},
   "outputs": [],
   "source": [
    "import argparse\n",
    "import os\n",
    "from distutils.dir_util import copy_tree\n",
    "\n",
    "import cv2\n",
    "import pydicom as dicom"
   ]
  },
  {
   "cell_type": "code",
   "execution_count": 2,
   "metadata": {},
   "outputs": [],
   "source": [
    "dicom_folder_path = r\"C:\\Users\\subrahm\\Documents\\datasets\\nbia breast cancer\\CBIS-DDSM-DICOM\"\n",
    "jpg_folder_path = r\"C:\\Users\\subrahm\\Documents\\datasets\\nbia breast cancer\\CBIS-DDSM-JPG\""
   ]
  },
  {
   "cell_type": "code",
   "execution_count": 3,
   "metadata": {},
   "outputs": [],
   "source": [
    "if not os.path.exists(jpg_folder_path):\n",
    "    raise ValueError(\"Jpg folder path doesn't exist\")\n",
    "    \n",
    "if not os.path.exists(dicom_folder_path):\n",
    "    raise ValueError(\"dicom folder path doesn't exist\")\n",
    "    \n",
    "copy_tree(dicom_folder_path, jpg_folder_path)\n",
    "for root, dirs, files in os.walk(jpg_folder_path):\n",
    "    for file in files:\n",
    "        if file.endswith('.dcm'):\n",
    "            full_path = os.path.join(root, file)\n",
    "            ds = dicom.dcmread(full_path)\n",
    "            pixel_array_numpy = ds.pixel_array\n",
    "            os.remove(full_path)\n",
    "            full_path = full_path.replace('.dcm', '.jpg')\n",
    "            cv2.imwrite(full_path, pixel_array_numpy)"
   ]
  },
  {
   "cell_type": "code",
   "execution_count": null,
   "metadata": {},
   "outputs": [],
   "source": []
  }
 ],
 "metadata": {
  "kernelspec": {
   "display_name": "Python 3",
   "language": "python",
   "name": "python3"
  },
  "language_info": {
   "codemirror_mode": {
    "name": "ipython",
    "version": 3
   },
   "file_extension": ".py",
   "mimetype": "text/x-python",
   "name": "python",
   "nbconvert_exporter": "python",
   "pygments_lexer": "ipython3",
   "version": "3.7.6"
  }
 },
 "nbformat": 4,
 "nbformat_minor": 4
}
