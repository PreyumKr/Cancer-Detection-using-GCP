{
 "cells": [
  {
   "cell_type": "code",
   "execution_count": null,
   "id": "centered-drive",
   "metadata": {},
   "outputs": [],
   "source": [
    "from google.cloud import storage\n",
    "import os\n",
    "\n",
    "from io import StringIO, BytesIO\n",
    "import tensorflow as tf\n",
    "import numpy as np\n",
    "from tensorflow.python.lib.io import file_io"
   ]
  },
  {
   "cell_type": "code",
   "execution_count": null,
   "id": "arctic-savings",
   "metadata": {},
   "outputs": [],
   "source": [
    "PROJECT = 'vernal-buffer-285906'\n",
    "REGION = 'us-west1'\n",
    "BUCKET = 'vernal-buffer-285906'"
   ]
  },
  {
   "cell_type": "code",
   "execution_count": null,
   "id": "bored-riding",
   "metadata": {},
   "outputs": [],
   "source": [
    "client = storage.Client()\n",
    "bucket = client.get_bucket(BUCKET)"
   ]
  },
  {
   "cell_type": "code",
   "execution_count": null,
   "id": "expressed-radical",
   "metadata": {},
   "outputs": [],
   "source": [
    "# Access a file\n",
    "file = bucket.get_blob('test_cnn/filenames.npy')"
   ]
  },
  {
   "cell_type": "code",
   "execution_count": null,
   "id": "smooth-banner",
   "metadata": {},
   "outputs": [],
   "source": [
    "# download as a string\n",
    "npy_file = file.download_as_string('filenames.npy')"
   ]
  },
  {
   "cell_type": "code",
   "execution_count": null,
   "id": "alien-lodge",
   "metadata": {},
   "outputs": [],
   "source": [
    "# list all file names in storage\n",
    "for file in bucket.list_blobs():\n",
    "    print(file.name)"
   ]
  },
  {
   "cell_type": "code",
   "execution_count": null,
   "id": "industrial-kitchen",
   "metadata": {},
   "outputs": [],
   "source": [
    "# Doesn't work !\n",
    "np.load('gs://vernal-buffer-285906/test_cnn/filenames.npy')"
   ]
  },
  {
   "cell_type": "code",
   "execution_count": 56,
   "id": "automatic-bench",
   "metadata": {},
   "outputs": [],
   "source": [
    "# Works !\n",
    "f = BytesIO(file_io.read_file_to_string('gs://vernal-buffer-285906/test_cnn/filenames.npy', binary_mode=True))\n",
    "data = np.load(f)"
   ]
  },
  {
   "cell_type": "code",
   "execution_count": 58,
   "id": "potential-tunnel",
   "metadata": {},
   "outputs": [
    {
     "data": {
      "text/plain": [
       "array(['A_0010_1.LEFT_MLO.ROI.03.png', 'A_0010_1.RIGHT_CC.ROI.02.png',\n",
       "       'A_0010_1.RIGHT_CC.ROI.03.png', 'A_0010_1.RIGHT_CC.ROI.04.png',\n",
       "       'A_0010_1.RIGHT_MLO.ROI.01.png', 'A_0010_1.RIGHT_MLO.ROI.02.png',\n",
       "       'A_0012_1.RIGHT_MLO.ROI.01.png', 'A_0013_1.LEFT_MLO.ROI.01.png',\n",
       "       'A_0013_1.LEFT_MLO.ROI.02.png', 'A_0013_1.RIGHT_MLO.ROI.01.png',\n",
       "       'A_0013_1.RIGHT_MLO.ROI.02.png', 'A_0013_1.RIGHT_MLO.ROI.03.png',\n",
       "       'A_0015_1.LEFT_CC.ROI.01.png', 'A_0015_1.LEFT_CC.ROI.02.png',\n",
       "       'A_0015_1.LEFT_CC.ROI.03.png', 'A_0015_1.LEFT_CC.ROI.04.png',\n",
       "       'A_0015_1.LEFT_CC.ROI.05.png', 'A_0015_1.LEFT_MLO.ROI.01.png',\n",
       "       'A_0015_1.LEFT_MLO.ROI.02.png', 'A_0015_1.LEFT_MLO.ROI.03.png',\n",
       "       'A_0015_1.RIGHT_CC.ROI.02.png', 'A_0015_1.RIGHT_CC.ROI.03.png',\n",
       "       'A_0015_1.RIGHT_CC.ROI.04.png', 'A_0015_1.RIGHT_CC.ROI.05.png',\n",
       "       'A_0015_1.RIGHT_MLO.ROI.01.png', 'A_0015_1.RIGHT_MLO.ROI.02.png',\n",
       "       'A_0015_1.RIGHT_MLO.ROI.03.png', 'A_1050_1.RIGHT_MLO.ROI.01.png',\n",
       "       'A_1053_1.LEFT_CC.ROI.01.png', 'A_1053_1.LEFT_MLO.ROI.01.png',\n",
       "       'A_1054_1.RIGHT_CC.ROI.01.png', 'A_1054_1.RIGHT_MLO.ROI.01.png',\n",
       "       'A_1055_1.LEFT_CC.ROI.01.png', 'A_1055_1.LEFT_MLO.ROI.01.png',\n",
       "       'A_1056_1.RIGHT_CC.ROI.01.png', 'A_1056_1.RIGHT_MLO.ROI.01.png',\n",
       "       'A_1057_1.RIGHT_CC.ROI.01.png', 'A_1057_1.RIGHT_MLO.ROI.01.png',\n",
       "       'A_1058_1.RIGHT_CC.ROI.01.png', 'A_1058_1.RIGHT_MLO.ROI.01.png',\n",
       "       'A_1060_1.LEFT_CC.ROI.01.png', 'A_1060_1.LEFT_MLO.ROI.01.png',\n",
       "       'A_1061_1.LEFT_CC.ROI.01.png', 'A_1061_1.LEFT_MLO.ROI.01.png',\n",
       "       'A_1061_1.RIGHT_CC.ROI.01.png', 'A_1061_1.RIGHT_MLO.ROI.01.png',\n",
       "       'A_1063_1.LEFT_CC.ROI.01.png', 'A_1063_1.LEFT_MLO.ROI.01.png',\n",
       "       'A_1065_1.LEFT_MLO.ROI.01.png', 'A_1069_1.LEFT_CC.ROI.01.png',\n",
       "       'A_1069_1.LEFT_MLO.ROI.01.png', 'A_1069_1.RIGHT_CC.ROI.01.png',\n",
       "       'A_1069_1.RIGHT_MLO.ROI.01.png', 'A_1070_1.RIGHT_CC.ROI.01.png'],\n",
       "      dtype='<U29')"
      ]
     },
     "execution_count": 58,
     "metadata": {},
     "output_type": "execute_result"
    }
   ],
   "source": [
    "data"
   ]
  },
  {
   "cell_type": "code",
   "execution_count": null,
   "id": "norwegian-combination",
   "metadata": {},
   "outputs": [],
   "source": []
  }
 ],
 "metadata": {
  "environment": {
   "name": "tf2-gpu.2-3.mnightly-2021-02-12-debian-10-test",
   "type": "gcloud",
   "uri": "gcr.io/deeplearning-platform-release/tf2-gpu.2-3:mnightly-2021-02-12-debian-10-test"
  },
  "kernelspec": {
   "display_name": "Python 3",
   "language": "python",
   "name": "python3"
  },
  "language_info": {
   "codemirror_mode": {
    "name": "ipython",
    "version": 3
   },
   "file_extension": ".py",
   "mimetype": "text/x-python",
   "name": "python",
   "nbconvert_exporter": "python",
   "pygments_lexer": "ipython3",
   "version": "3.7.9"
  }
 },
 "nbformat": 4,
 "nbformat_minor": 5
}
