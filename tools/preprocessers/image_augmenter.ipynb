{
 "cells": [
  {
   "cell_type": "code",
   "execution_count": null,
   "id": "advisory-concord",
   "metadata": {},
   "outputs": [],
   "source": [
    "# ! pip3 install scikit-image"
   ]
  },
  {
   "cell_type": "code",
   "execution_count": null,
   "id": "confused-semester",
   "metadata": {},
   "outputs": [],
   "source": [
    "from IPython.core.display import display, HTML\n",
    "display(HTML(\"<style>.container { width:100% !important; }</style>\"))"
   ]
  },
  {
   "cell_type": "code",
   "execution_count": null,
   "id": "global-parking",
   "metadata": {},
   "outputs": [],
   "source": [
    "import random\n",
    "import os\n",
    "import numpy as np\n",
    "\n",
    "from scipy import ndarray\n",
    "from skimage import transform, util, io\n",
    "\n",
    "import skimage.transform"
   ]
  },
  {
   "cell_type": "code",
   "execution_count": null,
   "id": "taken-necessity",
   "metadata": {},
   "outputs": [],
   "source": [
    "READ_IMAGES_FOLDER = r\"C:\\Users\\subrahm\\Documents\\breast-cancer-detection\\data\\DDSM\\complete_data\\tumor\"\n",
    "WRITE_IMAGES_FOLDER = r\"C:\\Users\\subrahm\\Documents\\breast-cancer-detection\\data\\DDSM\\complete_data\\augmented_tumor\""
   ]
  },
  {
   "cell_type": "code",
   "execution_count": null,
   "id": "thirty-prediction",
   "metadata": {},
   "outputs": [],
   "source": [
    "def random_rotation(image_array: ndarray):\n",
    "    # pick a random degree of rotation between 25% on the left and 25% on the right\n",
    "    random_degree = random.uniform(-25, 25)\n",
    "    return transform.rotate(image_array, random_degree)"
   ]
  },
  {
   "cell_type": "code",
   "execution_count": null,
   "id": "informal-private",
   "metadata": {},
   "outputs": [],
   "source": [
    "def random_noise(image_array: ndarray):\n",
    "    # add random noise to the image\n",
    "    return util.random_noise(image_array)"
   ]
  },
  {
   "cell_type": "code",
   "execution_count": null,
   "id": "ancient-giving",
   "metadata": {},
   "outputs": [],
   "source": [
    "def horizontal_flip(image_array: ndarray):\n",
    "    # horizontal flip doesn't need skimage, it's easy as flipping the image array of pixels !\n",
    "    return image_array[:, ::-1]"
   ]
  },
  {
   "cell_type": "code",
   "execution_count": null,
   "id": "continuing-million",
   "metadata": {},
   "outputs": [],
   "source": [
    "# dictionary of the transformations functions we defined earlier\n",
    "available_transformations = {\n",
    "    'rotate': random_rotation,\n",
    "    'noise': random_noise,\n",
    "    'horizontal_flip': horizontal_flip\n",
    "}"
   ]
  },
  {
   "cell_type": "code",
   "execution_count": null,
   "id": "infrared-spread",
   "metadata": {
    "scrolled": false
   },
   "outputs": [],
   "source": [
    "for image in os.listdir(READ_IMAGES_FOLDER):\n",
    "    abs_path = os.path.join(READ_IMAGES_FOLDER, image)\n",
    "    image_to_transform = io.imread(abs_path)\n",
    "    for transformation in available_transformations:\n",
    "        \n",
    "        # apply transformation\n",
    "        transformed_image = available_transformations[transformation](image_to_transform)\n",
    "        \n",
    "        # resize images to 650*650 (approximate mean hight and width considering all images)\n",
    "        transformed_image = skimage.transform.resize(transformed_image, (650, 650))\n",
    "        \n",
    "        # Save the image\n",
    "        image_name = f\"{os.path.splitext(image)[0]}_{transformation}.png\"\n",
    "        io.imsave(os.path.join(WRITE_IMAGES_FOLDER, image_name), transformed_image)\n",
    "    \n",
    "    # Move original image also to write folder\n",
    "    image_to_transform = skimage.transform.resize(image_to_transform, (650, 650))\n",
    "    io.imsave(os.path.join(WRITE_IMAGES_FOLDER, image), image_to_transform)"
   ]
  },
  {
   "cell_type": "code",
   "execution_count": null,
   "id": "characteristic-investing",
   "metadata": {},
   "outputs": [],
   "source": []
  }
 ],
 "metadata": {
  "kernelspec": {
   "display_name": "Python 3",
   "language": "python",
   "name": "python3"
  },
  "language_info": {
   "codemirror_mode": {
    "name": "ipython",
    "version": 3
   },
   "file_extension": ".py",
   "mimetype": "text/x-python",
   "name": "python",
   "nbconvert_exporter": "python",
   "pygments_lexer": "ipython3",
   "version": "3.7.9"
  }
 },
 "nbformat": 4,
 "nbformat_minor": 5
}
